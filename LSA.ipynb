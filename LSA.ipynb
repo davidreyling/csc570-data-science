{
 "cells": [
  {
   "cell_type": "code",
   "execution_count": 1,
   "metadata": {
    "collapsed": true
   },
   "outputs": [],
   "source": [
    "from sklearn.datasets import fetch_20newsgroups\n",
    "categories = ['rec.sport.baseball']\n",
    "dataset = fetch_20newsgroups(subset='all',shuffle=True, random_state=42, categories=categories)\n",
    "corpus = dataset.data"
   ]
  },
  {
   "cell_type": "code",
   "execution_count": 29,
   "metadata": {
    "collapsed": true
   },
   "outputs": [],
   "source": [
    "stopwords = ['want','has','.689','jxu@black.clarku.edu','thf2@kimbark.uchicago.edu','Oscar','.','Rangers?','Perez.','Smith.','AAA.',\n",
    "             'AAA)','AAA,','>Lupica','Chunichi','camelot.bradley.edu','kahn@troi.cc.rochester.edu','Charlie','Richmond','had','M.',\n",
    "             '<C5qGLD.Dut@cc.swarthmore.edu>,','Col,bichette','4.5','Senators','Graca)','30332','*Atlanta','Then','They','Daryl',\n",
    "             '<1993Apr6.203330.4974@oucsace.cs.ohiou.edu>','\"To','275','274','27.','(except','1997.','\"Mark','lots','Jays','Aaron',\n",
    "             '-----------oOO--(_)--OOo-----------','Chicago','Maybe','cogsci.ucsd.edu','Anderson','Hi,','stwombly@cs.ulowell.edu',\n",
    "             'taurus.meaddata.com','Smith)','Smith,','MLEs.','His','Abbott','Redding','(Well,','Mil,gvaughn','La','CF.','Bosio',\n",
    "             '.681','.680','17:31:58','.575','.574','.577','.570','.576','.571','.573','.578','Kittys','L.','ronc@vnet.ibm.com',\n",
    "             'LP','LH','LO','LA','Jacobs.','Jacobs)','LF','(D.','CF,','Cle,hill','Lu','>Oh,','VNEWS','Le','h','therefore','Year-Buck',\n",
    "             'Gopher)','Galarraga','\"The','Harvey','WINCO','>Doug','AT&T','Hamilton','Cin,sabo','Keach','molest.ugcs.caltech.edu',\n",
    "             '>Pat','Western','repairs********************************','Valle','Lajoie','Hou,bagwell', 'much','Those','Dopson',\n",
    "             '<1993Apr20.165738.16495@mnemosyne.cs.du.edu>','Braves-Giants','.726','whoever','dietz@parody.Data-IO.COM','Rauser',\n",
    "             'ravel.udel.edu','g215a-1.nextwork.rose-hulman.edu','Dykstra','Lasorda','.685','0.672','Lurie','Rangers.','Rangers,',\n",
    "             '<1993Apr5.123904.17806@porthos.cc.bellcore.com>',\"Olson's\",'Steven','>7)''rstimets@silver.ucs.indiana.edu','one',\n",
    "             'Lopez','My','ME','MD','MF','MA','MB','MM','ML','MN','MI','Elias',\"couldn't\",'with','NY','Owen.','Michigan','.253',\n",
    "             '.252','.251','.250','.257','.256','.255','.254','.259','Rodriguez,','<34592@oasys.dt.navy.mil>','Thornton',\n",
    "             '.....................................................................','<1993Apr19.024222.11181@newshub.ariel.yorku.ca>'\n",
    "             '++++++++++++++++++++++++++++++++++++++++++++++++++++++++++++++','aardvark@spica.la.locus.com','did','Huckabay',\n",
    "             'acad.drake.edu','Finley','<C5wEwD.Kto@murdoch.acc.Virginia.EDU>','yajima@nttcom.ntt.jp']\n",
    "wordDict = dict()\n",
    "wordSet = []"
   ]
  },
  {
   "cell_type": "code",
   "execution_count": 30,
   "metadata": {
    "collapsed": false
   },
   "outputs": [],
   "source": [
    "for c in corpus:\n",
    "    text = c.encode('utf8')\n",
    "    text = str.split(text)\n",
    "    for t in text:\n",
    "        if t in stopwords:\n",
    "            continue\n",
    "        elif t in wordSet:\n",
    "            wordDict[t] += 1\n",
    "        else:\n",
    "            wordSet.append(t)\n",
    "            wordDict[t] = 1"
   ]
  },
  {
   "cell_type": "code",
   "execution_count": 32,
   "metadata": {
    "collapsed": false
   },
   "outputs": [],
   "source": [
    "from sklearn.feature_extraction.text import TfidfVectorizer\n",
    "vectorizer = TfidfVectorizer(stop_words=stopwords, use_idf=True, ngram_range=(1,3))\n",
    "X = vectorizer.fit_transform(corpus)"
   ]
  },
  {
   "cell_type": "code",
   "execution_count": 34,
   "metadata": {
    "collapsed": false
   },
   "outputs": [
    {
     "data": {
      "text/plain": [
       "<1x247448 sparse matrix of type '<type 'numpy.float64'>'\n",
       "\twith 368 stored elements in Compressed Sparse Row format>"
      ]
     },
     "execution_count": 34,
     "metadata": {},
     "output_type": "execute_result"
    }
   ],
   "source": [
    "X[0]"
   ]
  },
  {
   "cell_type": "code",
   "execution_count": 35,
   "metadata": {
    "collapsed": false
   },
   "outputs": [
    {
     "name": "stdout",
     "output_type": "stream",
     "text": [
      "  (0, 109500)\t0.0609041692848\n",
      "  (0, 64255)\t0.0609041692848\n",
      "  (0, 245074)\t0.0609041692848\n",
      "  (0, 38023)\t0.0609041692848\n",
      "  (0, 179690)\t0.0609041692848\n",
      "  (0, 97713)\t0.0609041692848\n",
      "  (0, 77646)\t0.0609041692848\n",
      "  (0, 71069)\t0.0609041692848\n",
      "  (0, 213051)\t0.0609041692848\n",
      "  (0, 28780)\t0.0550487016802\n",
      "  (0, 93075)\t0.0574789403119\n",
      "  (0, 167189)\t0.0609041692848\n",
      "  (0, 129970)\t0.0609041692848\n",
      "  (0, 69941)\t0.0609041692848\n",
      "  (0, 213037)\t0.0609041692848\n",
      "  (0, 23330)\t0.0574789403119\n",
      "  (0, 21514)\t0.0609041692848\n",
      "  (0, 79919)\t0.0609041692848\n",
      "  (0, 97187)\t0.0609041692848\n",
      "  (0, 140979)\t0.0609041692848\n",
      "  (0, 233496)\t0.0609041692848\n",
      "  (0, 196784)\t0.0609041692848\n",
      "  (0, 234445)\t0.0609041692848\n",
      "  (0, 151801)\t0.0609041692848\n",
      "  (0, 77869)\t0.0609041692848\n",
      "  :\t:\n",
      "  (0, 53430)\t0.0866755329419\n",
      "  (0, 16871)\t0.0609041692848\n",
      "  (0, 122331)\t0.0915360102053\n",
      "  (0, 33166)\t0.0133336401273\n",
      "  (0, 7762)\t0.0311146954281\n",
      "  (0, 127666)\t0.00849874891295\n",
      "  (0, 197287)\t0.0503212610886\n",
      "  (0, 61128)\t0.0321720303628\n",
      "  (0, 226669)\t0.032458418944\n",
      "  (0, 109225)\t0.047666684345\n",
      "  (0, 140762)\t0.0503212610886\n",
      "  (0, 226705)\t0.0148738295696\n",
      "  (0, 192553)\t0.0308698187441\n",
      "  (0, 38528)\t0.0253843805433\n",
      "  (0, 155539)\t0.00851584943311\n",
      "  (0, 81338)\t0.103246945415\n",
      "  (0, 64105)\t0.133397380452\n",
      "  (0, 170993)\t0.0105042254703\n",
      "  (0, 195255)\t0.00844765407528\n",
      "  (0, 73888)\t0.0196761110172\n",
      "  (0, 49894)\t0.0418860349477\n",
      "  (0, 49904)\t0.0418860349477\n",
      "  (0, 126099)\t0.0410405645111\n",
      "  (0, 242887)\t0.0609041692848\n",
      "  (0, 86756)\t0.00844765407528\n"
     ]
    }
   ],
   "source": [
    "print X[0]"
   ]
  },
  {
   "cell_type": "code",
   "execution_count": null,
   "metadata": {
    "collapsed": false
   },
   "outputs": [],
   "source": [
    "X.shape"
   ]
  },
  {
   "cell_type": "code",
   "execution_count": null,
   "metadata": {
    "collapsed": true
   },
   "outputs": [],
   "source": [
    "from sklearn.decomposition import TruncatedSVD\n",
    "lsa = TruncatedSVD(n_components=50, n_iter=100)\n",
    "lsa.fit(X)"
   ]
  },
  {
   "cell_type": "code",
   "execution_count": null,
   "metadata": {
    "collapsed": true
   },
   "outputs": [],
   "source": [
    "lsa.compoenents_[0]"
   ]
  },
  {
   "cell_type": "code",
   "execution_count": null,
   "metadata": {
    "collapsed": true
   },
   "outputs": [],
   "source": [
    "terms = vectorizer.get_feature_names()\n",
    "for i, comp in enumerate(lsa.components_):\n",
    "    termsInComp = zip(terms,comp)\n",
    "    sortedTerms= soted(termsInComp, ket=lambda x: x[1], reverse=True) [:10]\n",
    "    print \"Concept %d:\" % i\n",
    "    for term in sortedTerms:\n",
    "        print term[0]\n",
    "    print \" \""
   ]
  },
  {
   "cell_type": "code",
   "execution_count": null,
   "metadata": {
    "collapsed": true
   },
   "outputs": [],
   "source": []
  }
 ],
 "metadata": {
  "kernelspec": {
   "display_name": "Python 2",
   "language": "python",
   "name": "python2"
  },
  "language_info": {
   "codemirror_mode": {
    "name": "ipython",
    "version": 2
   },
   "file_extension": ".py",
   "mimetype": "text/x-python",
   "name": "python",
   "nbconvert_exporter": "python",
   "pygments_lexer": "ipython2",
   "version": "2.7.11"
  }
 },
 "nbformat": 4,
 "nbformat_minor": 0
}
