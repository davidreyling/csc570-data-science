{
 "cells": [
  {
   "cell_type": "code",
   "execution_count": 1,
   "metadata": {
    "collapsed": true
   },
   "outputs": [],
   "source": [
    "from sklearn import datasets\n",
    "import pandas as pd\n",
    "from sklearn.preprocessing import StandardScaler\n",
    "from sklearn.cross_validation import train_test_split\n",
    "from sklearn.metrics import mean_squared_error\n",
    "from sklearn.metrics import r2_score\n",
    "from sklearn.linear_model import LinearRegression"
   ]
  },
  {
   "cell_type": "code",
   "execution_count": 2,
   "metadata": {
    "collapsed": false
   },
   "outputs": [
    {
     "name": "stdout",
     "output_type": "stream",
     "text": [
      "Boston House Prices dataset\n",
      "\n",
      "Notes\n",
      "------\n",
      "Data Set Characteristics:  \n",
      "\n",
      "    :Number of Instances: 506 \n",
      "\n",
      "    :Number of Attributes: 13 numeric/categorical predictive\n",
      "    \n",
      "    :Median Value (attribute 14) is usually the target\n",
      "\n",
      "    :Attribute Information (in order):\n",
      "        - CRIM     per capita crime rate by town\n",
      "        - ZN       proportion of residential land zoned for lots over 25,000 sq.ft.\n",
      "        - INDUS    proportion of non-retail business acres per town\n",
      "        - CHAS     Charles River dummy variable (= 1 if tract bounds river; 0 otherwise)\n",
      "        - NOX      nitric oxides concentration (parts per 10 million)\n",
      "        - RM       average number of rooms per dwelling\n",
      "        - AGE      proportion of owner-occupied units built prior to 1940\n",
      "        - DIS      weighted distances to five Boston employment centres\n",
      "        - RAD      index of accessibility to radial highways\n",
      "        - TAX      full-value property-tax rate per $10,000\n",
      "        - PTRATIO  pupil-teacher ratio by town\n",
      "        - B        1000(Bk - 0.63)^2 where Bk is the proportion of blacks by town\n",
      "        - LSTAT    % lower status of the population\n",
      "        - MEDV     Median value of owner-occupied homes in $1000's\n",
      "\n",
      "    :Missing Attribute Values: None\n",
      "\n",
      "    :Creator: Harrison, D. and Rubinfeld, D.L.\n",
      "\n",
      "This is a copy of UCI ML housing dataset.\n",
      "http://archive.ics.uci.edu/ml/datasets/Housing\n",
      "\n",
      "\n",
      "This dataset was taken from the StatLib library which is maintained at Carnegie Mellon University.\n",
      "\n",
      "The Boston house-price data of Harrison, D. and Rubinfeld, D.L. 'Hedonic\n",
      "prices and the demand for clean air', J. Environ. Economics & Management,\n",
      "vol.5, 81-102, 1978.   Used in Belsley, Kuh & Welsch, 'Regression diagnostics\n",
      "...', Wiley, 1980.   N.B. Various transformations are used in the table on\n",
      "pages 244-261 of the latter.\n",
      "\n",
      "The Boston house-price data has been used in many machine learning papers that address regression\n",
      "problems.   \n",
      "     \n",
      "**References**\n",
      "\n",
      "   - Belsley, Kuh & Welsch, 'Regression diagnostics: Identifying Influential Data and Sources of Collinearity', Wiley, 1980. 244-261.\n",
      "   - Quinlan,R. (1993). Combining Instance-Based and Model-Based Learning. In Proceedings on the Tenth International Conference of Machine Learning, 236-243, University of Massachusetts, Amherst. Morgan Kaufmann.\n",
      "   - many more! (see http://archive.ics.uci.edu/ml/datasets/Housing)\n",
      "\n"
     ]
    }
   ],
   "source": [
    "bean = datasets.load_boston()\n",
    "print bean.DESCR"
   ]
  },
  {
   "cell_type": "code",
   "execution_count": 3,
   "metadata": {
    "collapsed": true
   },
   "outputs": [],
   "source": [
    "def load_boston():\n",
    "    scaler = StandardScaler()\n",
    "    boston = datasets.load_boston()\n",
    "    X=boston.data\n",
    "    y=boston.target\n",
    "    X = scaler.fit_transform(X)\n",
    "    return train_test_split(X,y)"
   ]
  },
  {
   "cell_type": "code",
   "execution_count": 4,
   "metadata": {
    "collapsed": true
   },
   "outputs": [],
   "source": [
    "X_train, X_test, y_train, y_test = load_boston()"
   ]
  },
  {
   "cell_type": "code",
   "execution_count": 5,
   "metadata": {
    "collapsed": false
   },
   "outputs": [
    {
     "data": {
      "text/plain": [
       "(379L, 13L)"
      ]
     },
     "execution_count": 5,
     "metadata": {},
     "output_type": "execute_result"
    }
   ],
   "source": [
    "X_train.shape"
   ]
  },
  {
   "cell_type": "code",
   "execution_count": 6,
   "metadata": {
    "collapsed": false
   },
   "outputs": [
    {
     "data": {
      "text/plain": [
       "LinearRegression(copy_X=True, fit_intercept=True, n_jobs=1, normalize=False)"
      ]
     },
     "execution_count": 6,
     "metadata": {},
     "output_type": "execute_result"
    }
   ],
   "source": [
    "clf = LinearRegression()\n",
    "clf.fit(X_train, y_train)"
   ]
  },
  {
   "cell_type": "code",
   "execution_count": 7,
   "metadata": {
    "collapsed": false
   },
   "outputs": [
    {
     "data": {
      "text/plain": [
       "[(23.199999999999999, 22.131659941411229),\n",
       " (23.300000000000001, 25.177683872905146),\n",
       " (19.800000000000001, 23.162791882070199),\n",
       " (19.399999999999999, 20.192662363055597),\n",
       " (7.2000000000000002, 9.2959493028251483),\n",
       " (24.300000000000001, 19.43573307858685),\n",
       " (16.100000000000001, 18.63395525780124),\n",
       " (8.8000000000000007, 3.8956931136835387),\n",
       " (22.600000000000001, 27.236297605059889),\n",
       " (28.399999999999999, 28.600507828781375),\n",
       " (21.399999999999999, 23.253853484842473),\n",
       " (31.100000000000001, 30.954550450210167),\n",
       " (22.0, 20.57116851887767),\n",
       " (42.799999999999997, 28.554841728718092),\n",
       " (31.199999999999999, 27.854744346294126),\n",
       " (14.1, 17.771916180785368),\n",
       " (9.6999999999999993, 10.340380197606015),\n",
       " (35.399999999999999, 33.473176603693432),\n",
       " (15.199999999999999, 11.175575290971011),\n",
       " (23.800000000000001, 25.471718091593992),\n",
       " (23.899999999999999, 28.127398626006894),\n",
       " (17.800000000000001, 20.328657909101992),\n",
       " (20.800000000000001, 22.697656047656292),\n",
       " (13.1, 13.052839012985849),\n",
       " (20.699999999999999, 26.004487989494997),\n",
       " (24.800000000000001, 24.365382536540739),\n",
       " (23.600000000000001, 30.861511712165779),\n",
       " (22.399999999999999, 23.794574666012814),\n",
       " (30.300000000000001, 30.930833027247491),\n",
       " (34.899999999999999, 33.71742556802694),\n",
       " (20.600000000000001, 16.405471840124349),\n",
       " (22.199999999999999, 22.19465582054363),\n",
       " (11.300000000000001, 13.763322186373493),\n",
       " (14.5, 18.661007860100241),\n",
       " (21.0, 21.065118042462959),\n",
       " (28.5, 33.099814420182426),\n",
       " (18.199999999999999, 14.165466202152343),\n",
       " (19.100000000000001, 16.706094063748107),\n",
       " (18.899999999999999, 24.166812561821121),\n",
       " (17.199999999999999, 13.644809946472778),\n",
       " (15.4, 14.241518494391812),\n",
       " (16.300000000000001, 12.613707194549061),\n",
       " (22.5, 17.531374915658159),\n",
       " (33.299999999999997, 34.501828501468623),\n",
       " (11.9, 9.1443170723271265),\n",
       " (24.199999999999999, 24.332851378806158),\n",
       " (11.800000000000001, 12.472229509111989),\n",
       " (50.0, 43.57136341464571),\n",
       " (19.399999999999999, 16.807108707172645),\n",
       " (21.699999999999999, 19.851642094101855),\n",
       " (33.0, 22.811487081155729),\n",
       " (5.0, 10.186052046472875),\n",
       " (17.5, 16.068577910858028),\n",
       " (46.0, 39.79072401363856),\n",
       " (16.699999999999999, 19.919546688791456),\n",
       " (34.600000000000001, 33.030008681271461),\n",
       " (18.0, 18.834424109842928),\n",
       " (18.300000000000001, 19.261899295329272),\n",
       " (15.0, 18.027616898924336),\n",
       " (14.6, 7.9375175233669903),\n",
       " (23.0, 23.186299196437496),\n",
       " (17.800000000000001, 16.344274635640875),\n",
       " (25.0, 24.479203899634172),\n",
       " (8.3000000000000007, 13.890744067268038),\n",
       " (15.6, 11.598233994696184),\n",
       " (34.899999999999999, 29.015046497897014),\n",
       " (18.699999999999999, 20.593248243514264),\n",
       " (41.299999999999997, 32.412780698909721),\n",
       " (19.800000000000001, 18.217812043480343),\n",
       " (22.899999999999999, 22.251623845711705),\n",
       " (10.800000000000001, 11.691023854834626),\n",
       " (27.5, 32.365096262459296),\n",
       " (34.700000000000003, 30.152912083185562),\n",
       " (23.800000000000001, 22.003162220040515),\n",
       " (28.600000000000001, 27.030409491135504),\n",
       " (21.199999999999999, 21.756645884993233),\n",
       " (22.800000000000001, 23.8592094127285),\n",
       " (8.5, 16.656155561494288),\n",
       " (13.5, 12.631243505635787),\n",
       " (21.100000000000001, 20.706609075646927),\n",
       " (21.899999999999999, 16.083509544872211),\n",
       " (50.0, 35.798768572126932),\n",
       " (24.800000000000001, 25.760448777322367),\n",
       " (48.5, 40.821648983319079),\n",
       " (50.0, 36.070822666177975),\n",
       " (26.5, 25.897025233580472),\n",
       " (13.4, 13.095364676370552),\n",
       " (15.6, 19.595624446129879),\n",
       " (19.899999999999999, 19.955295147632082),\n",
       " (22.199999999999999, 19.096605180187812),\n",
       " (50.0, 26.931282709553582),\n",
       " (23.699999999999999, 10.021282699949792),\n",
       " (25.100000000000001, 30.31449095430575),\n",
       " (13.9, 13.786976630049702),\n",
       " (19.300000000000001, 20.783971027864233),\n",
       " (13.1, 20.504524270245771),\n",
       " (22.600000000000001, 22.178819769234526),\n",
       " (18.899999999999999, 15.090200842849663),\n",
       " (7.4000000000000004, 6.1414470489742001),\n",
       " (19.199999999999999, 19.984718366064612),\n",
       " (18.199999999999999, 19.789617094156604),\n",
       " (23.699999999999999, 27.502163795169636),\n",
       " (43.799999999999997, 34.661022347186602),\n",
       " (24.600000000000001, 24.312953010459331),\n",
       " (21.0, 21.19694010051251),\n",
       " (18.5, 19.694169168995142),\n",
       " (15.4, 18.278137928057042),\n",
       " (35.399999999999999, 30.240283158166143),\n",
       " (36.399999999999999, 31.72061881137223),\n",
       " (21.899999999999999, 37.418948043499711),\n",
       " (32.5, 31.573885674896012),\n",
       " (48.299999999999997, 36.654042998000911),\n",
       " (19.0, 21.508930604936296),\n",
       " (14.4, 8.5964401349042383),\n",
       " (13.800000000000001, 20.517760616376879),\n",
       " (21.399999999999999, 20.245576998875208),\n",
       " (33.100000000000001, 31.681674315638041),\n",
       " (24.399999999999999, 23.48841274438853),\n",
       " (10.4, 16.636137737332152),\n",
       " (14.6, 19.32454055171031),\n",
       " (17.199999999999999, 16.672299465039398),\n",
       " (18.800000000000001, 20.049957837789272),\n",
       " (42.299999999999997, 35.627557983244486),\n",
       " (25.0, 25.031336401905907),\n",
       " (50.0, 42.565914289182224),\n",
       " (28.0, 28.053559794680908),\n",
       " (21.100000000000001, 22.049961363630899)]"
      ]
     },
     "execution_count": 7,
     "metadata": {},
     "output_type": "execute_result"
    }
   ],
   "source": [
    "zip (y_test, clf.predict(X_test))"
   ]
  },
  {
   "cell_type": "code",
   "execution_count": 13,
   "metadata": {
    "collapsed": false
   },
   "outputs": [],
   "source": [
    "import math\n",
    "RMSE = math.sqrt(mean_squared_error(y_test, clf.predict(X_test)))"
   ]
  },
  {
   "cell_type": "code",
   "execution_count": 14,
   "metadata": {
    "collapsed": false
   },
   "outputs": [
    {
     "data": {
      "text/plain": [
       "5.131769093284812"
      ]
     },
     "execution_count": 14,
     "metadata": {},
     "output_type": "execute_result"
    }
   ],
   "source": [
    "RMSE"
   ]
  },
  {
   "cell_type": "code",
   "execution_count": 15,
   "metadata": {
    "collapsed": false
   },
   "outputs": [
    {
     "data": {
      "text/plain": [
       "0.74276288345638863"
      ]
     },
     "execution_count": 15,
     "metadata": {},
     "output_type": "execute_result"
    }
   ],
   "source": [
    "from sklearn.metrics import r2_score\n",
    "r2_score(y_test, clf.predict(X_test))"
   ]
  },
  {
   "cell_type": "code",
   "execution_count": 82,
   "metadata": {
    "collapsed": false
   },
   "outputs": [
    {
     "data": {
      "text/plain": [
       "Lasso(alpha=0.017, copy_X=True, fit_intercept=True, max_iter=1000,\n",
       "   normalize=False, positive=False, precompute=False, random_state=None,\n",
       "   selection='cyclic', tol=0.0001, warm_start=False)"
      ]
     },
     "execution_count": 82,
     "metadata": {},
     "output_type": "execute_result"
    }
   ],
   "source": [
    "from sklearn import linear_model\n",
    "clf = linear_model.Lasso(alpha=0.017)\n",
    "clf.fit(X_train, y_train)"
   ]
  },
  {
   "cell_type": "code",
   "execution_count": 83,
   "metadata": {
    "collapsed": false
   },
   "outputs": [
    {
     "name": "stdout",
     "output_type": "stream",
     "text": [
      "[-0.61143796  1.00189966 -0.26454455  0.77148683 -1.77582722  2.49020504\n",
      "  0.18880385 -3.21330293  2.47306254 -2.01224074 -1.68003429  0.9293023\n",
      " -3.96451119]\n"
     ]
    }
   ],
   "source": [
    "print(clf.coef_)"
   ]
  },
  {
   "cell_type": "code",
   "execution_count": 84,
   "metadata": {
    "collapsed": false
   },
   "outputs": [
    {
     "name": "stdout",
     "output_type": "stream",
     "text": [
      "22.326996038\n"
     ]
    }
   ],
   "source": [
    "print(clf.intercept_)"
   ]
  },
  {
   "cell_type": "code",
   "execution_count": 85,
   "metadata": {
    "collapsed": false
   },
   "outputs": [
    {
     "data": {
      "text/plain": [
       "5.127881480875462"
      ]
     },
     "execution_count": 85,
     "metadata": {},
     "output_type": "execute_result"
    }
   ],
   "source": [
    "#ALPHA = 0.017\n",
    "RMSE = math.sqrt(mean_squared_error(y_test, clf.predict(X_test)))\n",
    "RMSE"
   ]
  },
  {
   "cell_type": "code",
   "execution_count": 77,
   "metadata": {
    "collapsed": false
   },
   "outputs": [
    {
     "data": {
      "text/plain": [
       "5.128017902883915"
      ]
     },
     "execution_count": 77,
     "metadata": {},
     "output_type": "execute_result"
    }
   ],
   "source": [
    "#ALPHA = 0.016\n",
    "RMSE = math.sqrt(mean_squared_error(y_test, clf.predict(X_test)))\n",
    "RMSE"
   ]
  },
  {
   "cell_type": "code",
   "execution_count": 73,
   "metadata": {
    "collapsed": false
   },
   "outputs": [
    {
     "data": {
      "text/plain": [
       "0.74315247986838928"
      ]
     },
     "execution_count": 73,
     "metadata": {},
     "output_type": "execute_result"
    }
   ],
   "source": [
    "#ALPHA = 0.017\n",
    "r2_score(y_test, clf.predict(X_test))"
   ]
  },
  {
   "cell_type": "code",
   "execution_count": 78,
   "metadata": {
    "collapsed": false
   },
   "outputs": [
    {
     "data": {
      "text/plain": [
       "0.74313881335882193"
      ]
     },
     "execution_count": 78,
     "metadata": {},
     "output_type": "execute_result"
    }
   ],
   "source": [
    "#ALPHA = 0.016\n",
    "r2_score(y_test, clf.predict(X_test))"
   ]
  },
  {
   "cell_type": "code",
   "execution_count": 79,
   "metadata": {
    "collapsed": true
   },
   "outputs": [],
   "source": [
    "#I used the LASSO model, and then I played around with changing the aplha value.  I started it at 0.1, but I found\n",
    "#I got a better fit by increasing the alpha value just a bit.  I increased it to 0.2, and found that was too much."
   ]
  },
  {
   "cell_type": "code",
   "execution_count": 86,
   "metadata": {
    "collapsed": true
   },
   "outputs": [],
   "source": [
    "#So I took it down to 0.15.  I believe somewhere around 0.15 - 0.17 is an ideal alpha value for the LASSO model. \n",
    "#By increasing the alpha value to around 0.17, it will decrease the RMSE score, but it will also raise the R2 score \n",
    "#a small amount.  Conversely, by lower the alpha value to around 0.15 it has the exact opposite effect on the two values.\n",
    "#I believe that around 0.16 is the ideal alpha value as it is a compromise of the two scores."
   ]
  },
  {
   "cell_type": "code",
   "execution_count": null,
   "metadata": {
    "collapsed": true
   },
   "outputs": [],
   "source": []
  }
 ],
 "metadata": {
  "kernelspec": {
   "display_name": "Python 2",
   "language": "python",
   "name": "python2"
  },
  "language_info": {
   "codemirror_mode": {
    "name": "ipython",
    "version": 2
   },
   "file_extension": ".py",
   "mimetype": "text/x-python",
   "name": "python",
   "nbconvert_exporter": "python",
   "pygments_lexer": "ipython2",
   "version": "2.7.11"
  }
 },
 "nbformat": 4,
 "nbformat_minor": 0
}
